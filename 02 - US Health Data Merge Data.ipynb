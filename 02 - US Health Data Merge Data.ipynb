{
 "cells": [
  {
   "cell_type": "markdown",
   "metadata": {},
   "source": [
    "# Merging 2015 Health Data"
   ]
  },
  {
   "cell_type": "code",
   "execution_count": 333,
   "metadata": {
    "collapsed": false
   },
   "outputs": [],
   "source": [
    "## Reading xls files\n",
    "import xlrd\n",
    "\n",
    "## Pandas. Because pandas.\n",
    "import pandas as pd\n",
    "from pandas import DataFrame\n",
    "\n",
    "import numpy as np\n",
    "\n",
    "## Graphing libraries.\n",
    "from matplotlib import pyplot as plt \n",
    "import seaborn as sb\n",
    "# iPython command graphs inline\n",
    "%matplotlib inline \n",
    "import plotly.plotly as py"
   ]
  },
  {
   "cell_type": "markdown",
   "metadata": {},
   "source": [
    "## Read State Health .XLS Files\n",
    "\n",
    "Here we are taking the 2015 health data files for each and extracting measures of interest for each county within each state and assembling it into a single data set."
   ]
  },
  {
   "cell_type": "code",
   "execution_count": 334,
   "metadata": {
    "collapsed": false
   },
   "outputs": [],
   "source": [
    "dir_dat = \"/Users/carriesmith/Dropbox/GA/datascience/project_1/county_health_data/\"\n",
    "states = {\n",
    "        'AK': 'Alaska',\n",
    "        'AL': 'Alabama',\n",
    "        'AR': 'Arkansas',\n",
    "        'AZ': 'Arizona',\n",
    "        'CA': 'California',\n",
    "        'CO': 'Colorado',\n",
    "        'CT': 'Connecticut',\n",
    "        'DC': 'District of Columbia',\n",
    "        'DE': 'Delaware',\n",
    "        'FL': 'Florida',\n",
    "        'GA': 'Georgia',\n",
    "        'HI': 'Hawaii',\n",
    "        'IA': 'Iowa',\n",
    "        'ID': 'Idaho',\n",
    "        'IL': 'Illinois',\n",
    "        'IN': 'Indiana',\n",
    "        'KS': 'Kansas',\n",
    "        'KY': 'Kentucky',\n",
    "        'LA': 'Louisiana',\n",
    "        'MA': 'Massachusetts',\n",
    "        'MD': 'Maryland',\n",
    "        'ME': 'Maine',\n",
    "        'MI': 'Michigan',\n",
    "        'MN': 'Minnesota',\n",
    "        'MO': 'Missouri',\n",
    "        'MS': 'Mississippi',\n",
    "        'MT': 'Montana',\n",
    "        'NC': 'North Carolina',\n",
    "        'ND': 'North Dakota',\n",
    "        'NE': 'Nebraska',\n",
    "        'NH': 'New Hampshire',\n",
    "        'NJ': 'New Jersey',\n",
    "        'NM': 'New Mexico',\n",
    "        'NV': 'Nevada',\n",
    "        'NY': 'New York',\n",
    "        'OH': 'Ohio',\n",
    "        'OK': 'Oklahoma',\n",
    "        'OR': 'Oregon',\n",
    "        'PA': 'Pennsylvania',\n",
    "        'RI': 'Rhode Island',\n",
    "        'SC': 'South Carolina',\n",
    "        'SD': 'South Dakota',\n",
    "        'TN': 'Tennessee',\n",
    "        'TX': 'Texas',\n",
    "        'UT': 'Utah',\n",
    "        'VA': 'Virginia',\n",
    "        'VT': 'Vermont',\n",
    "        'WA': 'Washington',\n",
    "        'WI': 'Wisconsin',\n",
    "        'WV': 'West Virginia',\n",
    "        'WY': 'Wyoming'\n",
    "}\n",
    "\n",
    "statenames = [s[1] for s in states.items()]"
   ]
  },
  {
   "cell_type": "code",
   "execution_count": 335,
   "metadata": {
    "collapsed": false
   },
   "outputs": [],
   "source": [
    "all_dat = DataFrame()\n",
    "\n",
    "for state in statenames:\n",
    "    file_in = state.replace(' ', '%20') + '2015.xls'\n",
    "    \n",
    "    workbook = xlrd.open_workbook(dir_dat + file_in)\n",
    "\n",
    "    sheet1 = DataFrame(columns=('state', 'FIPS', 'county', 'adult_smoke', 'adult_obesity', \\\n",
    "                               'adult_exdrinking', 'high_school_grad', 'unemployment'))\n",
    "\n",
    "    sheet2 = DataFrame(columns=('state', 'FIPS', 'county', 'population', 'median_income'))\n",
    "    \n",
    "    worksheet = workbook.sheet_by_name('Ranked Measure Data')\n",
    "    for row_n in range(3,worksheet.nrows):    \n",
    "        state = worksheet.cell(row_n, 1).value\n",
    "        FIPS = worksheet.cell(row_n, 0).value\n",
    "        county = worksheet.cell(row_n, 2).value\n",
    "        adult_smoke = worksheet.cell(row_n, 31).value\n",
    "        adult_obesity = worksheet.cell(row_n, 35).value\n",
    "        adult_exdrinking = worksheet.cell(row_n, 49).value\n",
    "        high_school_grad = worksheet.cell(row_n, 99).value\n",
    "        unemployment = worksheet.cell(row_n, 109).value\n",
    "        sheet1.loc[len(sheet1)+1] = [state,FIPS,county,adult_smoke,adult_obesity, \\\n",
    "                            adult_exdrinking,high_school_grad,unemployment]\n",
    "\n",
    "    worksheet = workbook.sheet_by_name('Additional Measure Data')\n",
    "    for row_n in range(3,worksheet.nrows):\n",
    "        state = worksheet.cell(row_n, 1).value\n",
    "        FIPS = worksheet.cell(row_n, 0).value\n",
    "        county = worksheet.cell(row_n, 2).value\n",
    "        population = worksheet.cell(row_n, 3).value\n",
    "        median_income = worksheet.cell(row_n, 71).value\n",
    "        sheet2.loc[len(sheet2)+1] = [state,FIPS,county,population,median_income]\n",
    "\n",
    "    state_dat = sheet1.merge(sheet2, on=['state','county','FIPS'])\n",
    "\n",
    "    all_dat = pd.concat([all_dat, state_dat], axis=0)"
   ]
  },
  {
   "cell_type": "code",
   "execution_count": 336,
   "metadata": {
    "collapsed": false
   },
   "outputs": [
    {
     "data": {
      "text/html": [
       "<div>\n",
       "<table border=\"1\" class=\"dataframe\">\n",
       "  <thead>\n",
       "    <tr style=\"text-align: right;\">\n",
       "      <th></th>\n",
       "      <th>state</th>\n",
       "      <th>FIPS</th>\n",
       "      <th>county</th>\n",
       "      <th>adult_smoke</th>\n",
       "      <th>adult_obesity</th>\n",
       "      <th>adult_exdrinking</th>\n",
       "      <th>high_school_grad</th>\n",
       "      <th>unemployment</th>\n",
       "      <th>population</th>\n",
       "      <th>median_income</th>\n",
       "    </tr>\n",
       "  </thead>\n",
       "  <tbody>\n",
       "    <tr>\n",
       "      <th>0</th>\n",
       "      <td>Washington</td>\n",
       "      <td>53001</td>\n",
       "      <td>Adams</td>\n",
       "      <td>10.1</td>\n",
       "      <td>36.0</td>\n",
       "      <td>11.8</td>\n",
       "      <td>75.02143</td>\n",
       "      <td>8.531317</td>\n",
       "      <td>19067</td>\n",
       "      <td>45171</td>\n",
       "    </tr>\n",
       "    <tr>\n",
       "      <th>1</th>\n",
       "      <td>Washington</td>\n",
       "      <td>53003</td>\n",
       "      <td>Asotin</td>\n",
       "      <td>21.7</td>\n",
       "      <td>28.6</td>\n",
       "      <td>15.6</td>\n",
       "      <td>69.42105</td>\n",
       "      <td>7.208778</td>\n",
       "      <td>22110</td>\n",
       "      <td>42842</td>\n",
       "    </tr>\n",
       "    <tr>\n",
       "      <th>2</th>\n",
       "      <td>Washington</td>\n",
       "      <td>53005</td>\n",
       "      <td>Benton</td>\n",
       "      <td>15.3</td>\n",
       "      <td>32.0</td>\n",
       "      <td>13.4</td>\n",
       "      <td>75.07926</td>\n",
       "      <td>8.347211</td>\n",
       "      <td>184486</td>\n",
       "      <td>59264</td>\n",
       "    </tr>\n",
       "    <tr>\n",
       "      <th>3</th>\n",
       "      <td>Washington</td>\n",
       "      <td>53007</td>\n",
       "      <td>Chelan</td>\n",
       "      <td>13.2</td>\n",
       "      <td>25.8</td>\n",
       "      <td>14.5</td>\n",
       "      <td>74.10494</td>\n",
       "      <td>7.256601</td>\n",
       "      <td>73967</td>\n",
       "      <td>50033</td>\n",
       "    </tr>\n",
       "    <tr>\n",
       "      <th>4</th>\n",
       "      <td>Washington</td>\n",
       "      <td>53009</td>\n",
       "      <td>Clallam</td>\n",
       "      <td>18.9</td>\n",
       "      <td>28.1</td>\n",
       "      <td>13.8</td>\n",
       "      <td>72.87946</td>\n",
       "      <td>9.207693</td>\n",
       "      <td>72312</td>\n",
       "      <td>46531</td>\n",
       "    </tr>\n",
       "  </tbody>\n",
       "</table>\n",
       "</div>"
      ],
      "text/plain": [
       "        state   FIPS   county adult_smoke  adult_obesity adult_exdrinking  \\\n",
       "0  Washington  53001    Adams        10.1           36.0             11.8   \n",
       "1  Washington  53003   Asotin        21.7           28.6             15.6   \n",
       "2  Washington  53005   Benton        15.3           32.0             13.4   \n",
       "3  Washington  53007   Chelan        13.2           25.8             14.5   \n",
       "4  Washington  53009  Clallam        18.9           28.1             13.8   \n",
       "\n",
       "  high_school_grad unemployment  population median_income  \n",
       "0         75.02143     8.531317       19067         45171  \n",
       "1         69.42105     7.208778       22110         42842  \n",
       "2         75.07926     8.347211      184486         59264  \n",
       "3         74.10494     7.256601       73967         50033  \n",
       "4         72.87946     9.207693       72312         46531  "
      ]
     },
     "execution_count": 336,
     "metadata": {},
     "output_type": "execute_result"
    }
   ],
   "source": [
    "all_dat.head()"
   ]
  },
  {
   "cell_type": "code",
   "execution_count": 276,
   "metadata": {
    "collapsed": false,
    "scrolled": true
   },
   "outputs": [
    {
     "data": {
      "text/html": [
       "<div>\n",
       "<table border=\"1\" class=\"dataframe\">\n",
       "  <thead>\n",
       "    <tr style=\"text-align: right;\">\n",
       "      <th></th>\n",
       "      <th>state</th>\n",
       "      <th>FIPS</th>\n",
       "      <th>county</th>\n",
       "      <th>adult_smoke</th>\n",
       "      <th>adult_obesity</th>\n",
       "      <th>adult_exdrinking</th>\n",
       "      <th>high_school_grad</th>\n",
       "      <th>unemployment</th>\n",
       "      <th>population</th>\n",
       "      <th>median_income</th>\n",
       "    </tr>\n",
       "  </thead>\n",
       "  <tbody>\n",
       "    <tr>\n",
       "      <th>77</th>\n",
       "      <td>Mississippi</td>\n",
       "      <td>28155</td>\n",
       "      <td>Webster</td>\n",
       "      <td>22.9</td>\n",
       "      <td>36.1</td>\n",
       "      <td>9.9</td>\n",
       "      <td>92.5</td>\n",
       "      <td>12.06226</td>\n",
       "      <td>9987</td>\n",
       "      <td>34930</td>\n",
       "    </tr>\n",
       "    <tr>\n",
       "      <th>78</th>\n",
       "      <td>Mississippi</td>\n",
       "      <td>28157</td>\n",
       "      <td>Wilkinson</td>\n",
       "      <td>22.6</td>\n",
       "      <td>39.9</td>\n",
       "      <td>13.1</td>\n",
       "      <td>57.5</td>\n",
       "      <td>11.10172</td>\n",
       "      <td>9381</td>\n",
       "      <td>26373</td>\n",
       "    </tr>\n",
       "    <tr>\n",
       "      <th>79</th>\n",
       "      <td>Mississippi</td>\n",
       "      <td>28159</td>\n",
       "      <td>Winston</td>\n",
       "      <td>20.3</td>\n",
       "      <td>35.4</td>\n",
       "      <td>14.3</td>\n",
       "      <td>72.5</td>\n",
       "      <td>11.77297</td>\n",
       "      <td>18788</td>\n",
       "      <td>30961</td>\n",
       "    </tr>\n",
       "    <tr>\n",
       "      <th>80</th>\n",
       "      <td>Mississippi</td>\n",
       "      <td>28161</td>\n",
       "      <td>Yalobusha</td>\n",
       "      <td>22.4</td>\n",
       "      <td>35.2</td>\n",
       "      <td>11.7</td>\n",
       "      <td>62.44048</td>\n",
       "      <td>9.250226</td>\n",
       "      <td>12373</td>\n",
       "      <td>32660</td>\n",
       "    </tr>\n",
       "    <tr>\n",
       "      <th>81</th>\n",
       "      <td>Mississippi</td>\n",
       "      <td>28163</td>\n",
       "      <td>Yazoo</td>\n",
       "      <td>24.5</td>\n",
       "      <td>42.3</td>\n",
       "      <td>11.7</td>\n",
       "      <td>63.95627</td>\n",
       "      <td>10.94266</td>\n",
       "      <td>27883</td>\n",
       "      <td>28757</td>\n",
       "    </tr>\n",
       "  </tbody>\n",
       "</table>\n",
       "</div>"
      ],
      "text/plain": [
       "          state   FIPS     county adult_smoke  adult_obesity adult_exdrinking  \\\n",
       "77  Mississippi  28155    Webster        22.9           36.1              9.9   \n",
       "78  Mississippi  28157  Wilkinson        22.6           39.9             13.1   \n",
       "79  Mississippi  28159    Winston        20.3           35.4             14.3   \n",
       "80  Mississippi  28161  Yalobusha        22.4           35.2             11.7   \n",
       "81  Mississippi  28163      Yazoo        24.5           42.3             11.7   \n",
       "\n",
       "   high_school_grad unemployment  population median_income  \n",
       "77             92.5     12.06226        9987         34930  \n",
       "78             57.5     11.10172        9381         26373  \n",
       "79             72.5     11.77297       18788         30961  \n",
       "80         62.44048     9.250226       12373         32660  \n",
       "81         63.95627     10.94266       27883         28757  "
      ]
     },
     "execution_count": 276,
     "metadata": {},
     "output_type": "execute_result"
    }
   ],
   "source": [
    "all_dat.tail()"
   ]
  },
  {
   "cell_type": "code",
   "execution_count": 277,
   "metadata": {
    "collapsed": false
   },
   "outputs": [
    {
     "data": {
      "text/plain": [
       "51"
      ]
     },
     "execution_count": 277,
     "metadata": {},
     "output_type": "execute_result"
    }
   ],
   "source": [
    "# Sanity Check\n",
    "len(pd.unique(all_dat.state))"
   ]
  },
  {
   "cell_type": "code",
   "execution_count": 278,
   "metadata": {
    "collapsed": false,
    "scrolled": true
   },
   "outputs": [
    {
     "name": "stdout",
     "output_type": "stream",
     "text": [
      "[u'Alabama', u'Alaska', u'Arizona', u'Arkansas', u'California', u'Colorado', u'Connecticut', u'Delaware', u'District of Columbia', u'Florida', u'Georgia', u'Hawaii', u'Idaho', u'Illinois', u'Indiana', u'Iowa', u'Kansas', u'Kentucky', u'Louisiana', u'Maine', u'Maryland', u'Massachusetts', u'Michigan', u'Minnesota', u'Mississippi', u'Missouri', u'Montana', u'Nebraska', u'Nevada', u'New Hampshire', u'New Jersey', u'New Mexico', u'New York', u'North Carolina', u'North Dakota', u'Ohio', u'Oklahoma', u'Oregon', u'Pennsylvania', u'Rhode Island', u'South Carolina', u'South Dakota', u'Tennessee', u'Texas', u'Utah', u'Vermont', u'Virginia', u'Washington', u'West Virginia', u'Wisconsin', u'Wyoming']\n"
     ]
    }
   ],
   "source": [
    "print sorted(pd.unique(all_dat.state).tolist())\n",
    "# 50 states + District of Columbia = 51. Sweet."
   ]
  },
  {
   "cell_type": "code",
   "execution_count": 279,
   "metadata": {
    "collapsed": false
   },
   "outputs": [
    {
     "name": "stdout",
     "output_type": "stream",
     "text": [
      "<class 'pandas.core.frame.DataFrame'>\n",
      "Int64Index: 3141 entries, 0 to 81\n",
      "Data columns (total 10 columns):\n",
      "state               3141 non-null object\n",
      "FIPS                3141 non-null object\n",
      "county              3141 non-null object\n",
      "adult_smoke         3141 non-null object\n",
      "adult_obesity       3141 non-null float64\n",
      "adult_exdrinking    3141 non-null object\n",
      "high_school_grad    3141 non-null object\n",
      "unemployment        3141 non-null object\n",
      "population          3141 non-null float64\n",
      "median_income       3141 non-null object\n",
      "dtypes: float64(2), object(8)\n",
      "memory usage: 269.9+ KB\n"
     ]
    }
   ],
   "source": [
    "all_dat.to_csv(dir_dat + '02_all_dat_health_combined.csv')\n",
    "all_dat.info()\n",
    "# Note: some columns read as 'objects'."
   ]
  },
  {
   "cell_type": "code",
   "execution_count": 280,
   "metadata": {
    "collapsed": false
   },
   "outputs": [
    {
     "name": "stdout",
     "output_type": "stream",
     "text": [
      "<class 'pandas.core.frame.DataFrame'>\n",
      "Int64Index: 3141 entries, 0 to 3140\n",
      "Data columns (total 11 columns):\n",
      "Unnamed: 0          3141 non-null int64\n",
      "state               3141 non-null object\n",
      "FIPS                3141 non-null int64\n",
      "county              3141 non-null object\n",
      "adult_smoke         2711 non-null float64\n",
      "adult_obesity       3141 non-null float64\n",
      "adult_exdrinking    2225 non-null float64\n",
      "high_school_grad    2672 non-null float64\n",
      "unemployment        3140 non-null float64\n",
      "population          3141 non-null float64\n",
      "median_income       3140 non-null float64\n",
      "dtypes: float64(7), int64(2), object(2)\n",
      "memory usage: 294.5+ KB\n"
     ]
    }
   ],
   "source": [
    "# Lazy type conversion, re-read csv file\n",
    "all_dat = pd.read_csv(dir_dat + '02_all_dat_health_combined.csv')\n",
    "all_dat.info()"
   ]
  },
  {
   "cell_type": "markdown",
   "metadata": {},
   "source": [
    "## Visualize Health Data\n",
    "\n",
    "Few graphs to get a feel for the smoking data."
   ]
  },
  {
   "cell_type": "code",
   "execution_count": 298,
   "metadata": {
    "collapsed": false
   },
   "outputs": [],
   "source": [
    "\n",
    "histdat = all_dat['adult_smoke'].dropna()\n",
    "\n",
    "plt.hist(histdat, color = (199/255., 11/255., 11/255.))\n",
    "plt.ylim([0,1000])\n",
    "plt.xlabel('Adult Smoking Rate (%)')\n",
    "plt.ylabel('Frequency')\n",
    "plt.title('Distribution of Adult Smoking Rates (%) All Counties')\n",
    "\n",
    "fig = plt.gcf()\n",
    "plot_url = py.plot_mpl(fig, filename='taxes-histogram')"
   ]
  },
  {
   "cell_type": "code",
   "execution_count": 329,
   "metadata": {
    "collapsed": true
   },
   "outputs": [],
   "source": [
    "histdat = all_dat[['state','adult_smoke']].dropna()\n",
    "# District of Columbia only has one point, which makes hist grumpy\n",
    "# and want more explicit parameters, which I'm too lazy to do right now.\n",
    "histdat = histdat[histdat['state'] != 'District of Columbia']"
   ]
  },
  {
   "cell_type": "code",
   "execution_count": 332,
   "metadata": {
    "collapsed": false
   },
   "outputs": [
    {
     "data": {
      "text/html": [
       "<div>\n",
       "<table border=\"1\" class=\"dataframe\">\n",
       "  <thead>\n",
       "    <tr style=\"text-align: right;\">\n",
       "      <th></th>\n",
       "      <th>state</th>\n",
       "      <th>adult_smoke</th>\n",
       "    </tr>\n",
       "  </thead>\n",
       "  <tbody>\n",
       "    <tr>\n",
       "      <th>0</th>\n",
       "      <td>Washington</td>\n",
       "      <td>10.1</td>\n",
       "    </tr>\n",
       "    <tr>\n",
       "      <th>1</th>\n",
       "      <td>Washington</td>\n",
       "      <td>21.7</td>\n",
       "    </tr>\n",
       "    <tr>\n",
       "      <th>2</th>\n",
       "      <td>Washington</td>\n",
       "      <td>15.3</td>\n",
       "    </tr>\n",
       "    <tr>\n",
       "      <th>3</th>\n",
       "      <td>Washington</td>\n",
       "      <td>13.2</td>\n",
       "    </tr>\n",
       "    <tr>\n",
       "      <th>4</th>\n",
       "      <td>Washington</td>\n",
       "      <td>18.9</td>\n",
       "    </tr>\n",
       "  </tbody>\n",
       "</table>\n",
       "</div>"
      ],
      "text/plain": [
       "        state  adult_smoke\n",
       "0  Washington         10.1\n",
       "1  Washington         21.7\n",
       "2  Washington         15.3\n",
       "3  Washington         13.2\n",
       "4  Washington         18.9"
      ]
     },
     "execution_count": 332,
     "metadata": {},
     "output_type": "execute_result"
    }
   ],
   "source": [
    "histdat.head()"
   ]
  },
  {
   "cell_type": "code",
   "execution_count": 330,
   "metadata": {
    "collapsed": false
   },
   "outputs": [
    {
     "data": {
      "text/html": [
       "<div>\n",
       "<table border=\"1\" class=\"dataframe\">\n",
       "  <thead>\n",
       "    <tr style=\"text-align: right;\">\n",
       "      <th></th>\n",
       "      <th>adult_smoke</th>\n",
       "    </tr>\n",
       "    <tr>\n",
       "      <th>state</th>\n",
       "      <th></th>\n",
       "    </tr>\n",
       "  </thead>\n",
       "  <tbody>\n",
       "    <tr>\n",
       "      <th>Utah</th>\n",
       "      <td>11.600000</td>\n",
       "    </tr>\n",
       "    <tr>\n",
       "      <th>California</th>\n",
       "      <td>14.970588</td>\n",
       "    </tr>\n",
       "    <tr>\n",
       "      <th>Rhode Island</th>\n",
       "      <td>15.180000</td>\n",
       "    </tr>\n",
       "    <tr>\n",
       "      <th>Massachusetts</th>\n",
       "      <td>15.450000</td>\n",
       "    </tr>\n",
       "    <tr>\n",
       "      <th>Connecticut</th>\n",
       "      <td>15.587500</td>\n",
       "    </tr>\n",
       "  </tbody>\n",
       "</table>\n",
       "</div>"
      ],
      "text/plain": [
       "               adult_smoke\n",
       "state                     \n",
       "Utah             11.600000\n",
       "California       14.970588\n",
       "Rhode Island     15.180000\n",
       "Massachusetts    15.450000\n",
       "Connecticut      15.587500"
      ]
     },
     "execution_count": 330,
     "metadata": {},
     "output_type": "execute_result"
    }
   ],
   "source": [
    "histdat.groupby('state').mean().sort('adult_smoke').head()"
   ]
  },
  {
   "cell_type": "code",
   "execution_count": 331,
   "metadata": {
    "collapsed": false
   },
   "outputs": [
    {
     "data": {
      "text/html": [
       "<div>\n",
       "<table border=\"1\" class=\"dataframe\">\n",
       "  <thead>\n",
       "    <tr style=\"text-align: right;\">\n",
       "      <th></th>\n",
       "      <th>adult_smoke</th>\n",
       "    </tr>\n",
       "    <tr>\n",
       "      <th>state</th>\n",
       "      <th></th>\n",
       "    </tr>\n",
       "  </thead>\n",
       "  <tbody>\n",
       "    <tr>\n",
       "      <th>Kentucky</th>\n",
       "      <td>28.523729</td>\n",
       "    </tr>\n",
       "    <tr>\n",
       "      <th>Alaska</th>\n",
       "      <td>27.373077</td>\n",
       "    </tr>\n",
       "    <tr>\n",
       "      <th>West Virginia</th>\n",
       "      <td>26.718182</td>\n",
       "    </tr>\n",
       "    <tr>\n",
       "      <th>Tennessee</th>\n",
       "      <td>25.962637</td>\n",
       "    </tr>\n",
       "    <tr>\n",
       "      <th>Missouri</th>\n",
       "      <td>25.415534</td>\n",
       "    </tr>\n",
       "  </tbody>\n",
       "</table>\n",
       "</div>"
      ],
      "text/plain": [
       "               adult_smoke\n",
       "state                     \n",
       "Kentucky         28.523729\n",
       "Alaska           27.373077\n",
       "West Virginia    26.718182\n",
       "Tennessee        25.962637\n",
       "Missouri         25.415534"
      ]
     },
     "execution_count": 331,
     "metadata": {},
     "output_type": "execute_result"
    }
   ],
   "source": [
    "histdat.groupby('state').mean().sort('adult_smoke', ascending=False).head()"
   ]
  },
  {
   "cell_type": "code",
   "execution_count": 328,
   "metadata": {
    "collapsed": false,
    "scrolled": true
   },
   "outputs": [
    {
     "data": {
      "image/png": "[encoded data removed]",
      "text/plain": [
       "<matplotlib.figure.Figure at 0x1110f9210>"
      ]
     },
     "metadata": {},
     "output_type": "display_data"
    }
   ],
   "source": [
    "\n",
    "g = sb.FacetGrid(histdat, col='state', col_wrap=10)\n",
    "f = g.map(plt.hist, 'adult_smoke', color = (199/255., 11/255., 11/255.))"
   ]
  },
  {
   "cell_type": "code",
   "execution_count": 325,
   "metadata": {
    "collapsed": false,
    "scrolled": true
   },
   "outputs": [
    {
     "data": {
      "text/html": [
       "<div>\n",
       "<table border=\"1\" class=\"dataframe\">\n",
       "  <thead>\n",
       "    <tr style=\"text-align: right;\">\n",
       "      <th></th>\n",
       "      <th>adult_smoke</th>\n",
       "    </tr>\n",
       "    <tr>\n",
       "      <th>state</th>\n",
       "      <th></th>\n",
       "    </tr>\n",
       "  </thead>\n",
       "  <tbody>\n",
       "    <tr>\n",
       "      <th>Utah</th>\n",
       "      <td>11.600000</td>\n",
       "    </tr>\n",
       "    <tr>\n",
       "      <th>California</th>\n",
       "      <td>14.970588</td>\n",
       "    </tr>\n",
       "    <tr>\n",
       "      <th>Rhode Island</th>\n",
       "      <td>15.180000</td>\n",
       "    </tr>\n",
       "    <tr>\n",
       "      <th>Massachusetts</th>\n",
       "      <td>15.450000</td>\n",
       "    </tr>\n",
       "    <tr>\n",
       "      <th>Connecticut</th>\n",
       "      <td>15.587500</td>\n",
       "    </tr>\n",
       "  </tbody>\n",
       "</table>\n",
       "</div>"
      ],
      "text/plain": [
       "               adult_smoke\n",
       "state                     \n",
       "Utah             11.600000\n",
       "California       14.970588\n",
       "Rhode Island     15.180000\n",
       "Massachusetts    15.450000\n",
       "Connecticut      15.587500"
      ]
     },
     "execution_count": 325,
     "metadata": {},
     "output_type": "execute_result"
    }
   ],
   "source": []
  },
  {
   "cell_type": "code",
   "execution_count": 326,
   "metadata": {
    "collapsed": false
   },
   "outputs": [
    {
     "data": {
      "text/html": [
       "<div>\n",
       "<table border=\"1\" class=\"dataframe\">\n",
       "  <thead>\n",
       "    <tr style=\"text-align: right;\">\n",
       "      <th></th>\n",
       "      <th>adult_smoke</th>\n",
       "    </tr>\n",
       "    <tr>\n",
       "      <th>state</th>\n",
       "      <th></th>\n",
       "    </tr>\n",
       "  </thead>\n",
       "  <tbody>\n",
       "    <tr>\n",
       "      <th>Kentucky</th>\n",
       "      <td>28.523729</td>\n",
       "    </tr>\n",
       "    <tr>\n",
       "      <th>Alaska</th>\n",
       "      <td>27.373077</td>\n",
       "    </tr>\n",
       "    <tr>\n",
       "      <th>West Virginia</th>\n",
       "      <td>26.718182</td>\n",
       "    </tr>\n",
       "    <tr>\n",
       "      <th>Tennessee</th>\n",
       "      <td>25.962637</td>\n",
       "    </tr>\n",
       "    <tr>\n",
       "      <th>Missouri</th>\n",
       "      <td>25.415534</td>\n",
       "    </tr>\n",
       "  </tbody>\n",
       "</table>\n",
       "</div>"
      ],
      "text/plain": [
       "               adult_smoke\n",
       "state                     \n",
       "Kentucky         28.523729\n",
       "Alaska           27.373077\n",
       "West Virginia    26.718182\n",
       "Tennessee        25.962637\n",
       "Missouri         25.415534"
      ]
     },
     "execution_count": 326,
     "metadata": {},
     "output_type": "execute_result"
    }
   ],
   "source": []
  },
  {
   "cell_type": "markdown",
   "metadata": {},
   "source": [
    "## Cigarette Tax Data\n",
    "\n",
    "The CDC provides data on individual state level taxes. And there is really a lot of variability.\n",
    "\n",
    "http://www.cdc.gov/statesystem/excisetax.html"
   ]
  },
  {
   "cell_type": "code",
   "execution_count": 192,
   "metadata": {
    "collapsed": false
   },
   "outputs": [],
   "source": [
    "taxes = pd.read_csv(dir_dat + 'Graph_of_Excise_Taxes_on_Cigarettes__CDC_STATE_System_Tobacco_Legislation_-_Tax_.csv')\n",
    "\n",
    "# print taxes.head()\n",
    "# print taxes.columns\n",
    "# print taxes.describe()\n",
    "# print taxes.info()"
   ]
  },
  {
   "cell_type": "code",
   "execution_count": 193,
   "metadata": {
    "collapsed": false,
    "scrolled": true
   },
   "outputs": [],
   "source": [
    "taxes = taxes[['LocationAbbr','LocationDesc', 'ProvisionValue', 'Effective_Date']]"
   ]
  },
  {
   "cell_type": "markdown",
   "metadata": {},
   "source": [
    "## Visualize Tax Data\n",
    "\n",
    "Explore state cigarette excise taxes data."
   ]
  },
  {
   "cell_type": "code",
   "execution_count": 250,
   "metadata": {
    "collapsed": false
   },
   "outputs": [
    {
     "data": {
      "text/plain": [
       "0     2.000\n",
       "1     0.425\n",
       "2     1.150\n",
       "3     2.000\n",
       "4     0.870\n",
       "5     0.840\n",
       "6     3.400\n",
       "7     2.900\n",
       "8     1.600\n",
       "9     1.339\n",
       "10    0.370\n",
       "11    3.200\n",
       "12    1.360\n",
       "13    0.570\n",
       "14    1.980\n",
       "15    0.995\n",
       "16    1.290\n",
       "17    0.600\n",
       "18    0.860\n",
       "19    3.510\n",
       "20    2.000\n",
       "21    2.000\n",
       "22    2.000\n",
       "23    2.900\n",
       "24    0.170\n",
       "25    0.680\n",
       "26    1.700\n",
       "27    0.450\n",
       "28    0.440\n",
       "29    0.640\n",
       "30    1.780\n",
       "31    2.700\n",
       "32    1.660\n",
       "33    1.800\n",
       "34    4.350\n",
       "35    1.600\n",
       "36    1.030\n",
       "37    1.310\n",
       "38    1.600\n",
       "39    3.750\n",
       "40    0.570\n",
       "41    1.530\n",
       "42    0.620\n",
       "43    1.410\n",
       "44    1.700\n",
       "45    0.300\n",
       "46    3.080\n",
       "47    3.025\n",
       "48    2.520\n",
       "49    0.550\n",
       "50    0.600\n",
       "Name: ProvisionValue, dtype: float64"
      ]
     },
     "execution_count": 250,
     "metadata": {},
     "output_type": "execute_result"
    }
   ],
   "source": [
    "taxes['ProvisionValue']"
   ]
  },
  {
   "cell_type": "code",
   "execution_count": 244,
   "metadata": {
    "collapsed": false,
    "scrolled": true
   },
   "outputs": [],
   "source": [
    "bins = np.arange(0,4.75,0.25)\n",
    "plt.hist(taxes['ProvisionValue'], bins=bins, color = (117/255.,107/255.,177/255.))\n",
    "plt.ylim([0,10])\n",
    "plt.xlabel('Excise Tax ($)')\n",
    "plt.ylabel('Frequency')\n",
    "plt.title('Distribution of State Cigarette Excise Taxes')\n",
    "\n",
    "fig = plt.gcf()\n",
    "plot_url = py.plot_mpl(fig, filename='taxes-histogram')"
   ]
  },
  {
   "cell_type": "code",
   "execution_count": 189,
   "metadata": {
    "collapsed": false
   },
   "outputs": [],
   "source": [
    "# PLOT.LY CHOROPLETH\n",
    "df = taxes\n",
    "\n",
    "for col in df.columns:\n",
    "    df[col] = df[col].astype(str)\n",
    "\n",
    "scl = [[0.0, 'rgb(242,240,247)'],[0.2, 'rgb(218,218,235)'],[0.4, 'rgb(188,189,220)'],\\\n",
    "            [0.6, 'rgb(158,154,200)'],[0.8, 'rgb(117,107,177)'],[1.0, 'rgb(84,39,143)']]\n",
    "\n",
    "df['text'] = '$' + df['ProvisionValue'] + ' effective ' + df['Effective_Date']\n",
    "\n",
    "data = [ dict(\n",
    "        type='choropleth',\n",
    "        colorscale = scl,\n",
    "        autocolorscale = False,\n",
    "        locations = df['LocationAbbr'],\n",
    "        z = df['ProvisionValue'].astype(float),\n",
    "        locationmode = 'USA-states',\n",
    "        text = df['text'],\n",
    "        marker = dict(\n",
    "            line = dict (\n",
    "                color = 'rgb(255,255,255)',\n",
    "                width = 2\n",
    "            )\n",
    "        ),\n",
    "        colorbar = dict(\n",
    "            title = \"USD\"\n",
    "        )\n",
    "    ) ]\n",
    "\n",
    "layout = dict(\n",
    "        title = 'State Excise Taxes on Cigarettes',\n",
    "        geo = dict(\n",
    "            scope='usa',\n",
    "            projection=dict( type='albers usa' ),\n",
    "            showlakes = True,\n",
    "            lakecolor = 'rgb(255, 255, 255)',\n",
    "        ),\n",
    "    )\n",
    "\n",
    "fig = dict( data=data, layout=layout )\n",
    "\n",
    "url = py.plot( fig, filename='d3-cloropleth-map' )"
   ]
  }
 ],
 "metadata": {
  "kernelspec": {
   "display_name": "Python 2",
   "language": "python",
   "name": "python2"
  },
  "language_info": {
   "codemirror_mode": {
    "name": "ipython",
    "version": 2
   },
   "file_extension": ".py",
   "mimetype": "text/x-python",
   "name": "python",
   "nbconvert_exporter": "python",
   "pygments_lexer": "ipython2",
   "version": "2.7.10"
  }
 },
 "nbformat": 4,
 "nbformat_minor": 0
}
